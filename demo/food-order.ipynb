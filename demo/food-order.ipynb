{
 "cells": [
  {
   "cell_type": "code",
   "execution_count": 10,
   "id": "959b8348-fb4b-4ee0-b96b-063baf998ca3",
   "metadata": {},
   "outputs": [
    {
     "name": "stdout",
     "output_type": "stream",
     "text": [
      "Requirement already satisfied: pydantic in ./.env312/lib/python3.12/site-packages (2.8.2)\n",
      "Requirement already satisfied: openai in ./.env312/lib/python3.12/site-packages (1.43.0)\n",
      "Requirement already satisfied: langchain in ./.env312/lib/python3.12/site-packages (0.2.15)\n",
      "Requirement already satisfied: langchain-community in ./.env312/lib/python3.12/site-packages (0.2.15)\n",
      "Requirement already satisfied: langgraph in ./.env312/lib/python3.12/site-packages (0.2.15)\n",
      "Collecting langgraph\n",
      "  Downloading langgraph-0.2.16-py3-none-any.whl.metadata (13 kB)\n",
      "Requirement already satisfied: langchain-anthropic in ./.env312/lib/python3.12/site-packages (0.1.23)\n",
      "Requirement already satisfied: tavily-python in ./.env312/lib/python3.12/site-packages (0.4.0)\n",
      "Requirement already satisfied: langgraph-checkpoint-sqlite in ./.env312/lib/python3.12/site-packages (1.0.1)\n",
      "Requirement already satisfied: langchain-openai in ./.env312/lib/python3.12/site-packages (0.1.23)\n",
      "Requirement already satisfied: annotated-types>=0.4.0 in ./.env312/lib/python3.12/site-packages (from pydantic) (0.7.0)\n",
      "Requirement already satisfied: pydantic-core==2.20.1 in ./.env312/lib/python3.12/site-packages (from pydantic) (2.20.1)\n",
      "Requirement already satisfied: typing-extensions>=4.6.1 in ./.env312/lib/python3.12/site-packages (from pydantic) (4.12.2)\n",
      "Requirement already satisfied: anyio<5,>=3.5.0 in ./.env312/lib/python3.12/site-packages (from openai) (4.4.0)\n",
      "Requirement already satisfied: distro<2,>=1.7.0 in ./.env312/lib/python3.12/site-packages (from openai) (1.9.0)\n",
      "Requirement already satisfied: httpx<1,>=0.23.0 in ./.env312/lib/python3.12/site-packages (from openai) (0.27.2)\n",
      "Requirement already satisfied: jiter<1,>=0.4.0 in ./.env312/lib/python3.12/site-packages (from openai) (0.5.0)\n",
      "Requirement already satisfied: sniffio in ./.env312/lib/python3.12/site-packages (from openai) (1.3.1)\n",
      "Requirement already satisfied: tqdm>4 in ./.env312/lib/python3.12/site-packages (from openai) (4.66.5)\n",
      "Requirement already satisfied: PyYAML>=5.3 in ./.env312/lib/python3.12/site-packages (from langchain) (6.0.2)\n",
      "Requirement already satisfied: SQLAlchemy<3,>=1.4 in ./.env312/lib/python3.12/site-packages (from langchain) (2.0.32)\n",
      "Requirement already satisfied: aiohttp<4.0.0,>=3.8.3 in ./.env312/lib/python3.12/site-packages (from langchain) (3.10.5)\n",
      "Requirement already satisfied: langchain-core<0.3.0,>=0.2.35 in ./.env312/lib/python3.12/site-packages (from langchain) (0.2.37)\n",
      "Requirement already satisfied: langchain-text-splitters<0.3.0,>=0.2.0 in ./.env312/lib/python3.12/site-packages (from langchain) (0.2.2)\n",
      "Requirement already satisfied: langsmith<0.2.0,>=0.1.17 in ./.env312/lib/python3.12/site-packages (from langchain) (0.1.108)\n",
      "Requirement already satisfied: numpy<2.0.0,>=1.26.0 in ./.env312/lib/python3.12/site-packages (from langchain) (1.26.4)\n",
      "Requirement already satisfied: requests<3,>=2 in ./.env312/lib/python3.12/site-packages (from langchain) (2.32.3)\n",
      "Requirement already satisfied: tenacity!=8.4.0,<9.0.0,>=8.1.0 in ./.env312/lib/python3.12/site-packages (from langchain) (8.5.0)\n",
      "Requirement already satisfied: dataclasses-json<0.7,>=0.5.7 in ./.env312/lib/python3.12/site-packages (from langchain-community) (0.6.7)\n",
      "Requirement already satisfied: langgraph-checkpoint<2.0.0,>=1.0.2 in ./.env312/lib/python3.12/site-packages (from langgraph) (1.0.8)\n",
      "Requirement already satisfied: anthropic<1,>=0.30.0 in ./.env312/lib/python3.12/site-packages (from langchain-anthropic) (0.34.1)\n",
      "Requirement already satisfied: defusedxml<0.8.0,>=0.7.1 in ./.env312/lib/python3.12/site-packages (from langchain-anthropic) (0.7.1)\n",
      "Requirement already satisfied: tiktoken>=0.5.1 in ./.env312/lib/python3.12/site-packages (from tavily-python) (0.7.0)\n",
      "Requirement already satisfied: aiosqlite<0.21.0,>=0.20.0 in ./.env312/lib/python3.12/site-packages (from langgraph-checkpoint-sqlite) (0.20.0)\n",
      "Requirement already satisfied: aiohappyeyeballs>=2.3.0 in ./.env312/lib/python3.12/site-packages (from aiohttp<4.0.0,>=3.8.3->langchain) (2.4.0)\n",
      "Requirement already satisfied: aiosignal>=1.1.2 in ./.env312/lib/python3.12/site-packages (from aiohttp<4.0.0,>=3.8.3->langchain) (1.3.1)\n",
      "Requirement already satisfied: attrs>=17.3.0 in ./.env312/lib/python3.12/site-packages (from aiohttp<4.0.0,>=3.8.3->langchain) (24.2.0)\n",
      "Requirement already satisfied: frozenlist>=1.1.1 in ./.env312/lib/python3.12/site-packages (from aiohttp<4.0.0,>=3.8.3->langchain) (1.4.1)\n",
      "Requirement already satisfied: multidict<7.0,>=4.5 in ./.env312/lib/python3.12/site-packages (from aiohttp<4.0.0,>=3.8.3->langchain) (6.0.5)\n",
      "Requirement already satisfied: yarl<2.0,>=1.0 in ./.env312/lib/python3.12/site-packages (from aiohttp<4.0.0,>=3.8.3->langchain) (1.9.6)\n",
      "Requirement already satisfied: tokenizers>=0.13.0 in ./.env312/lib/python3.12/site-packages (from anthropic<1,>=0.30.0->langchain-anthropic) (0.20.0)\n",
      "Requirement already satisfied: idna>=2.8 in ./.env312/lib/python3.12/site-packages (from anyio<5,>=3.5.0->openai) (3.8)\n",
      "Requirement already satisfied: marshmallow<4.0.0,>=3.18.0 in ./.env312/lib/python3.12/site-packages (from dataclasses-json<0.7,>=0.5.7->langchain-community) (3.22.0)\n",
      "Requirement already satisfied: typing-inspect<1,>=0.4.0 in ./.env312/lib/python3.12/site-packages (from dataclasses-json<0.7,>=0.5.7->langchain-community) (0.9.0)\n",
      "Requirement already satisfied: certifi in /opt/homebrew/lib/python3.12/site-packages (from httpx<1,>=0.23.0->openai) (2024.7.4)\n",
      "Requirement already satisfied: httpcore==1.* in ./.env312/lib/python3.12/site-packages (from httpx<1,>=0.23.0->openai) (1.0.5)\n",
      "Requirement already satisfied: h11<0.15,>=0.13 in ./.env312/lib/python3.12/site-packages (from httpcore==1.*->httpx<1,>=0.23.0->openai) (0.14.0)\n",
      "Requirement already satisfied: jsonpatch<2.0,>=1.33 in ./.env312/lib/python3.12/site-packages (from langchain-core<0.3.0,>=0.2.35->langchain) (1.33)\n",
      "Requirement already satisfied: packaging<25,>=23.2 in ./.env312/lib/python3.12/site-packages (from langchain-core<0.3.0,>=0.2.35->langchain) (24.1)\n",
      "Requirement already satisfied: orjson<4.0.0,>=3.9.14 in ./.env312/lib/python3.12/site-packages (from langsmith<0.2.0,>=0.1.17->langchain) (3.10.7)\n",
      "Requirement already satisfied: charset-normalizer<4,>=2 in ./.env312/lib/python3.12/site-packages (from requests<3,>=2->langchain) (3.3.2)\n",
      "Requirement already satisfied: urllib3<3,>=1.21.1 in ./.env312/lib/python3.12/site-packages (from requests<3,>=2->langchain) (2.2.2)\n",
      "Requirement already satisfied: regex>=2022.1.18 in ./.env312/lib/python3.12/site-packages (from tiktoken>=0.5.1->tavily-python) (2024.7.24)\n",
      "Requirement already satisfied: jsonpointer>=1.9 in ./.env312/lib/python3.12/site-packages (from jsonpatch<2.0,>=1.33->langchain-core<0.3.0,>=0.2.35->langchain) (3.0.0)\n",
      "Requirement already satisfied: huggingface-hub<1.0,>=0.16.4 in ./.env312/lib/python3.12/site-packages (from tokenizers>=0.13.0->anthropic<1,>=0.30.0->langchain-anthropic) (0.24.6)\n",
      "Requirement already satisfied: mypy-extensions>=0.3.0 in ./.env312/lib/python3.12/site-packages (from typing-inspect<1,>=0.4.0->dataclasses-json<0.7,>=0.5.7->langchain-community) (1.0.0)\n",
      "Requirement already satisfied: filelock in ./.env312/lib/python3.12/site-packages (from huggingface-hub<1.0,>=0.16.4->tokenizers>=0.13.0->anthropic<1,>=0.30.0->langchain-anthropic) (3.15.4)\n",
      "Requirement already satisfied: fsspec>=2023.5.0 in ./.env312/lib/python3.12/site-packages (from huggingface-hub<1.0,>=0.16.4->tokenizers>=0.13.0->anthropic<1,>=0.30.0->langchain-anthropic) (2024.6.1)\n",
      "Downloading langgraph-0.2.16-py3-none-any.whl (91 kB)\n",
      "Installing collected packages: langgraph\n",
      "  Attempting uninstall: langgraph\n",
      "    Found existing installation: langgraph 0.2.15\n",
      "    Uninstalling langgraph-0.2.15:\n",
      "      Successfully uninstalled langgraph-0.2.15\n",
      "Successfully installed langgraph-0.2.16\n",
      "Note: you may need to restart the kernel to use updated packages.\n"
     ]
    }
   ],
   "source": [
    "%pip install -U pydantic openai langchain langchain-community langgraph langchain-anthropic tavily-python langgraph-checkpoint-sqlite langchain-openai"
   ]
  },
  {
   "cell_type": "code",
   "execution_count": 11,
   "id": "77d0dfd8-a4e7-49a2-89d1-14a0c98726a7",
   "metadata": {
    "jupyter": {
     "source_hidden": true
    }
   },
   "outputs": [],
   "source": []
  },
  {
   "cell_type": "code",
   "execution_count": 167,
   "id": "c46b4d7e-43e0-447d-8215-ce5f9158a0d7",
   "metadata": {},
   "outputs": [],
   "source": [
    "\n",
    "import os \n",
    "assert \"ANTHROPIC_API_KEY\" in os.environ , \"get your antrhopic api key after registring and set as env variable\"\n",
    "assert \"OPENAI_API_KEY\" in os.environ\n",
    "assert \"LANGCHAIN_API_KEY\" in os.environ,  \"get your langsmith api key after registring and set as env variable\"\n",
    "\n"
   ]
  },
  {
   "cell_type": "code",
   "execution_count": 13,
   "id": "bd5ec1b3-12e8-429f-a3e9-88bd5230a1d3",
   "metadata": {},
   "outputs": [],
   "source": [
    "from langchain_openai import ChatOpenAI\n",
    "from langchain_anthropic import ChatAnthropic\n",
    "\n"
   ]
  },
  {
   "cell_type": "code",
   "execution_count": 14,
   "id": "73a8c9c9-d488-47f9-a499-115bf8bc2fdb",
   "metadata": {},
   "outputs": [],
   "source": [
    "import os\n",
    "os.environ[\"LANGCHAIN_TRACING_V2\"] = \"true\"\n",
    "\n",
    "os.environ[\"LANGCHAIN_PROJECT\"] = \"nasscom\"\n",
    "# LANGCHAIN_ENDPOINT=\"https://api.smith.langchain.com\"\n"
   ]
  },
  {
   "cell_type": "code",
   "execution_count": 15,
   "id": "786fe4ca-55eb-4d14-b594-46e290a3a0cb",
   "metadata": {},
   "outputs": [],
   "source": [
    "VALID_SIZES = [\"small\", \"medium\", \"large\"]\n",
    "VALID_TOPPINGS = [\"capsicum\", \"tomatoes\", \"olives\", \"mushrooms\", \"onions\", \"jalapenos\", \"pineapple\", \"pepperoni\"]\n",
    "VALID_SIDES = [\"garlic bread\", \"choco lava cake\", \"chicken taco\"]\n"
   ]
  },
  {
   "cell_type": "code",
   "execution_count": 134,
   "id": "bdc8cfb4-1e70-42bd-9de2-1c1692d14806",
   "metadata": {},
   "outputs": [],
   "source": [
    "from typing import List\n",
    "from langchain.tools import tool\n",
    "\n",
    "order_count = 0\n",
    "order_status_db={}\n",
    "\n",
    "\n",
    "\n",
    "def pizza_order(pizza_size: str, pizza_toppings: List[str], side_items: List[str]) -> str:\n",
    "    \"\"\"\n",
    "    Places an order for a pizza with the specified size, toppings, and side items. Must be invoked once the order details are confirmed by the user\n",
    "\n",
    "    Args:\n",
    "        pizza_size (str): The size of the pizza to order (e.g., 'small', 'medium', 'large').\n",
    "        pizza_toppings (List[str]): A list of toppings to add to the pizza.\n",
    "        side_items (List[str]): A list of side items to include with the order.\n",
    "\n",
    "    Returns:\n",
    "        str: A message indicating whether the order was placed successfully, or an error message if there were invalid inputs.\n",
    "\n",
    "    Example:\n",
    "        >>> pizza_order('large', ['pepperoni', 'mushrooms'], ['garlic bread', 'soda'])\n",
    "        \"Your order has been placed successfully! Here are the details:\\n{'pizza_size': 'large', 'pizza_toppings': ['pepperoni', 'mushrooms'], 'side_items': ['garlic bread', 'soda']}\"\n",
    "    \"\"\"\n",
    "\n",
    "    global order_count\n",
    "    \n",
    "    # Basic validation and order processing logic\n",
    "    if pizza_size not in VALID_SIZES:\n",
    "        return f\"Error: Invalid pizza size '{pizza_size}'. Please choose from {VALID_SIZES}.\"\n",
    "    \n",
    "    invalid_toppings = [topping for topping in pizza_toppings if topping not in VALID_TOPPINGS]\n",
    "    if invalid_toppings:\n",
    "        return f\"Error: Invalid toppings {invalid_toppings}. Please choose from {VALID_TOPPINGS}.\"\n",
    "    \n",
    "    invalid_sides = [side for side in side_items if side not in VALID_SIDES]\n",
    "    if invalid_sides:\n",
    "        return f\"Error: Invalid side items {invalid_sides}. Please choose from {VALID_SIDES}.\"\n",
    "    order_count+=1\n",
    "    \n",
    "    order_details = {\n",
    "        \"pizza_size\": pizza_size,\n",
    "        \"pizza_toppings\": pizza_toppings,\n",
    "        \"side_items\": side_items,\n",
    "        \"order_id\": order_count,\n",
    "    }\n",
    "    order_status_db[order_count] = \"pending\"\n",
    "    return f\"Your order has been placed successfully! Your order id is: {order_count}\"\n"
   ]
  },
  {
   "cell_type": "code",
   "execution_count": 17,
   "id": "cd442a8c",
   "metadata": {},
   "outputs": [],
   "source": [
    "@tool\n",
    "def order_status(order_id: int) -> str:\n",
    "    \"\"\"\n",
    "    Retrieves the status of a pizza order based on the order ID.\n",
    "\n",
    "    Args:\n",
    "        order_id (int): The ID of the order to check the status of.\n",
    "\n",
    "    Returns:\n",
    "        str: A message indicating the status of the order, or an error message if the order ID is invalid.\n",
    "\n",
    "    Example:\n",
    "        >>> order_status(1)\n",
    "        \"Order 1 is pending.\"\n",
    "    \"\"\"\n",
    "\n",
    "    if order_id not in order_status_db:\n",
    "        return f\"Error: Order ID {order_id} not found.\"\n",
    "    \n",
    "    return f\"Order {order_id} is {order_status_db[order_id]}.\""
   ]
  },
  {
   "cell_type": "code",
   "execution_count": 18,
   "id": "1f882f45-2538-4e27-8e8a-fb0e3067cd40",
   "metadata": {},
   "outputs": [],
   "source": [
    "pizza_doc=f\"\"\"- The pizzas are freshly baked using wheat base and will be served within 10 minutes of ordering.\n",
    "- Pizza is available in one of the three sizes:-  {\", \".join(VALID_SIZES)}\n",
    "- Any number of toppings can be added to a pizza\n",
    "- Pizza toppings can be one of these:- {\", \".join(VALID_TOPPINGS)}\n",
    "- The large pizza should be enough for about 4 people\n",
    "- The medium pizza should be enough for about 2 people\n",
    "- The small pizza should be enough for about 1 person\n",
    "- Allergen Information:\n",
    "    - The choco lava cake contains peanut oil\n",
    "    - The chick taco contains soya\n",
    "    - all products include milk based ingredients.\n",
    "- We do not have an option for extra cheese on the pizza\n",
    "\"\"\""
   ]
  },
  {
   "cell_type": "code",
   "execution_count": 19,
   "id": "c5a0a96d-cb5a-4cdb-a915-6eb7b62b679a",
   "metadata": {},
   "outputs": [
    {
     "data": {
      "text/markdown": [
       "- The pizzas are freshly baked using wheat base and will be served within 10 minutes of ordering.\n",
       "- Pizza is available in one of the three sizes:-  small, medium, large\n",
       "- Any number of toppings can be added to a pizza\n",
       "- Pizza toppings can be one of these:- capsicum, tomatoes, olives, mushrooms, onions, jalapenos, pineapple, pepperoni\n",
       "- The large pizza should be enough for about 4 people\n",
       "- The medium pizza should be enough for about 2 people\n",
       "- The small pizza should be enough for about 1 person\n",
       "- Allergen Information:\n",
       "    - The choco lava cake contains peanut oil\n",
       "    - The chick taco contains soya\n",
       "    - all products include milk based ingredients.\n",
       "- We do not have an option for extra cheese on the pizza\n"
      ],
      "text/plain": [
       "<IPython.core.display.Markdown object>"
      ]
     },
     "metadata": {},
     "output_type": "display_data"
    }
   ],
   "source": [
    "from IPython.display import display, Markdown, Latex\n",
    "display(Markdown(pizza_doc))"
   ]
  },
  {
   "cell_type": "code",
   "execution_count": 20,
   "id": "5e26db36-9c58-4b60-aaf4-949046782974",
   "metadata": {},
   "outputs": [
    {
     "data": {
      "text/plain": [
       "'You are a friendly but rule bound pizza ordering assisstant. You should respond to the user query based on the following information:-\\n- The pizzas are freshly baked using wheat base and will be served within 10 minutes of ordering.\\n- Pizza is available in one of the three sizes:-  small, medium, large\\n- Any number of toppings can be added to a pizza\\n- Pizza toppings can be one of these:- capsicum, tomatoes, olives, mushrooms, onions, jalapenos, pineapple, pepperoni\\n- The large pizza should be enough for about 4 people\\n- The medium pizza should be enough for about 2 people\\n- The small pizza should be enough for about 1 person\\n- Allergen Information:\\n    - The choco lava cake contains peanut oil\\n    - The chick taco contains soya\\n    - all products include milk based ingredients.\\n- We do not have an option for extra cheese on the pizza\\n\\nIn case the user query cannot be responded to based on the above information, Respond by literally saying \"I am not sure about this\"\\n'"
      ]
     },
     "execution_count": 20,
     "metadata": {},
     "output_type": "execute_result"
    }
   ],
   "source": [
    "question_response_prompt=f\"\"\"You are a friendly but rule bound pizza ordering assisstant. You should respond to the user query based on the following information:-\n",
    "{pizza_doc}\n",
    "In case the user query cannot be responded to based on the above information, Respond by literally saying \"I am not sure about this\"\n",
    "\"\"\"\n",
    "question_response_prompt"
   ]
  },
  {
   "cell_type": "code",
   "execution_count": 140,
   "id": "23f756f0-ff3b-41a1-9be4-7765f6048876",
   "metadata": {},
   "outputs": [],
   "source": [
    "\n",
    "llm = ChatOpenAI(model=\"gpt-4o\",temperature=0)\n",
    "# llm= ChatAnthropic(model=\"claude-3-5-sonnet-20240620\",temperature=0)\n",
    "# llm=ChatAnthropic(model=\"claude-3-haiku-20240307\",temperature=0)"
   ]
  },
  {
   "cell_type": "code",
   "execution_count": 141,
   "id": "94a97c66-3b51-47b1-8181-95486334b1a6",
   "metadata": {},
   "outputs": [],
   "source": [
    "from typing import Annotated\n",
    "\n",
    "from typing_extensions import TypedDict\n",
    "\n",
    "from langgraph.graph import StateGraph, START, END\n",
    "from langgraph.graph.message import AnyMessage,add_messages"
   ]
  },
  {
   "cell_type": "code",
   "execution_count": 142,
   "id": "0ea9ea6c-d4ee-4c2e-a54d-09e5a53f5bd5",
   "metadata": {},
   "outputs": [],
   "source": [
    "class State(TypedDict):\n",
    "    messages: Annotated[list[AnyMessage], add_messages]\n",
    "    size:str\n",
    "    toppings:list[str]\n",
    "    sides:list[str]\n",
    "    confirmed:bool\n",
    "    next:str"
   ]
  },
  {
   "cell_type": "code",
   "execution_count": 143,
   "id": "c17c04e9",
   "metadata": {},
   "outputs": [
    {
     "name": "stdout",
     "output_type": "stream",
     "text": [
      "You are a supervisor tasked with picking the right worker to act upon user queries. You may allocate the user query to one the following workers:-\n",
      "order_taker: This worker keep track of user's pizza order, specifically tracks the size of pizza,list of toppings and side items. Choose this worker if the user query is related to updating the order\n",
      "helper: Answers general user queries about pizza and order. Choose this worker only if of none of the other workers are suitable to respond\n",
      "order_status: This worker keeps track of the status of the order. Choose this worker if the user query is related to the status of the order\n",
      "Always respond concisely ONLY with the name of the worker most suitable to respond to the most recent user query\n"
     ]
    }
   ],
   "source": [
    "helper_nodes={\n",
    "    \"order_taker\": \"This worker keep track of user's pizza order, specifically tracks the size of pizza,list of toppings and side items. Choose this worker if the user query is related to updating the order\",\n",
    "    \"helper\":\"Answers general user queries about pizza and order. Choose this worker only if of none of the other workers are suitable to respond\",\n",
    "    \"order_status\":\"This worker keeps track of the status of the order. Choose this worker if the user query is related to the status of the order\",\n",
    "}\n",
    "worker_descriptions = \"\\n\".join([f\"{name}: {description}\" for name, description in helper_nodes.items()])\n",
    "router_agent_prompt=\"You are a supervisor tasked with picking the right worker to act upon user queries. You may allocate the user query to one the following workers:-\\n\" \\\n",
    "+ worker_descriptions \\\n",
    "+\"\\nAlways respond concisely ONLY with the name of the worker most suitable to respond to the most recent user query\"\n",
    "\n",
    "\n",
    "\n",
    "\n",
    "print(router_agent_prompt)"
   ]
  },
  {
   "cell_type": "code",
   "execution_count": 144,
   "id": "a49b576e",
   "metadata": {},
   "outputs": [],
   "source": [
    "from pydantic import BaseModel\n",
    "from typing import Literal,Optional\n",
    "# options = [\"FINISH\"] + list(helper_nodes.keys())\n",
    "options = list(helper_nodes.keys())\n",
    "\n",
    "class routeResponse(BaseModel):\n",
    "    next: Literal[*options]"
   ]
  },
  {
   "cell_type": "code",
   "execution_count": 145,
   "id": "b390df21",
   "metadata": {},
   "outputs": [],
   "source": [
    "class orderTakeResponse(BaseModel):\n",
    "    size:Optional[Literal[*VALID_SIZES]]\n",
    "    toppings:List[Literal[*VALID_TOPPINGS]]\n",
    "    sides:List[Literal[*VALID_SIDES]]\n",
    "    confirmed:bool\n",
    "    response:str"
   ]
  },
  {
   "cell_type": "code",
   "execution_count": 146,
   "id": "c04c9c14",
   "metadata": {},
   "outputs": [],
   "source": [
    "from langchain_core.messages import HumanMessage, SystemMessage, AIMessage\n",
    "from langchain_core.prompts import ChatPromptTemplate, MessagesPlaceholder\n"
   ]
  },
  {
   "cell_type": "code",
   "execution_count": 147,
   "id": "0e3cbbff",
   "metadata": {},
   "outputs": [],
   "source": [
    "router_prompt = ChatPromptTemplate.from_messages(\n",
    "    [\n",
    "        (\"system\", router_agent_prompt),\n",
    "        MessagesPlaceholder(variable_name=\"messages\"),\n",
    "        \n",
    "    ]\n",
    ").partial(options=str(options))\n",
    "\n",
    "def supervisor_agent(state):\n",
    "    supervisor_chain = (\n",
    "        router_prompt\n",
    "        | llm.with_structured_output(routeResponse)\n",
    "    )\n",
    "    return supervisor_chain.invoke(state)"
   ]
  },
  {
   "cell_type": "code",
   "execution_count": 170,
   "id": "d340afb0",
   "metadata": {},
   "outputs": [],
   "source": [
    "def agent_node(state, agent, name):\n",
    "    result = agent(state)\n",
    "    \n",
    "    # if hasattr(result,\"tool_calls\") and result.tool_calls:\n",
    "    #     print(\"Requested tool call\", result.tool_calls)\n",
    "    # else:\n",
    "    #     print(\"No tool call requested\")\n",
    "    if hasattr(result,\"content\"):\n",
    "        return {\"messages\": [AIMessage(content=result.content, name=name)]}\n",
    "    elif hasattr(result,\"response\"):\n",
    "        return {\"messages\": [AIMessage(content=result.response, name=name)]}\n"
   ]
  },
  {
   "cell_type": "code",
   "execution_count": 171,
   "id": "139625a3",
   "metadata": {},
   "outputs": [],
   "source": [
    "def invoke_agent_node(state, agent, name):\n",
    "    result = agent.invoke(state)\n",
    "    return {\"messages\": [HumanMessage(content=result[\"messages\"][-1].content, name=name)]}"
   ]
  },
  {
   "cell_type": "code",
   "execution_count": 172,
   "id": "752a12af",
   "metadata": {},
   "outputs": [],
   "source": [
    "def order_taker_node_factory(state,agent,name):\n",
    "    result = agent(state)\n",
    "    response={}\n",
    "    response[\"messages\"]=[HumanMessage(content=result.response, name=name)]\n",
    "    response[\"size\"]=result.size\n",
    "    response[\"toppings\"]=result.toppings\n",
    "    response[\"sides\"]=result.sides\n",
    "    response[\"confirmed\"]=result.confirmed\n",
    "    return response\n",
    "\n"
   ]
  },
  {
   "cell_type": "code",
   "execution_count": 173,
   "id": "585457fa",
   "metadata": {},
   "outputs": [],
   "source": [
    "helper_prompt = ChatPromptTemplate.from_messages(\n",
    "    [\n",
    "        (\"system\", question_response_prompt),\n",
    "        MessagesPlaceholder(variable_name=\"messages\"),\n",
    "    ]\n",
    ")\n",
    "def helper_agent(state):\n",
    "    helper_chain = (\n",
    "        helper_prompt\n",
    "        | llm\n",
    "    )\n",
    "    return helper_chain.invoke(state)"
   ]
  },
  {
   "cell_type": "code",
   "execution_count": 174,
   "id": "252d3dd0",
   "metadata": {},
   "outputs": [],
   "source": [
    "order_taker_prompt=\"You are a professional, concise server responsible for taking the user's pizza order. Only following information is relevant about the order:-\\n\" + \\\n",
    "f\"- Size of the pizza, it should be one of the these:- {', '.join(VALID_SIZES)} \\n\" + \\\n",
    "f\"- Toppings to be added to the pizza, User may only add on or some of these:- {', '.join(VALID_TOPPINGS)}\\n\" + \\\n",
    "f\"- Side items to be added to the order, User may only add on or some of these:- {', '.join(VALID_SIDES)}\\n\" + \\\n",
    "\"Acknowledge user's request by making an acceptance statement but in case the user request is confusing, feel free to ask clarifying question. In case user has not provided all information regarding a order, ask for it one at a time. Ensure that you ask the user If he wants to add any additional toppings or side items unless that have already confirmed that they don't. Maintain the continuity of the conversation and do *not* jumping across topics. Be patient and only ask one question in a single response.\" +\\\n",
    "\"In case the user has asked any clarifying questions, respond to them on the basis of following information only:-\\n\" + \\\n",
    "f\"{pizza_doc}\" +\\\n",
    "\"In case the user query cannot be responded to based on the above information, Respond by literally saying 'I am not sure about this'\" +\\\n",
    "\"*Respond in the form of a json object with following schema*:-\\n\" + \\\n",
    "\"\"\"{{\n",
    "    \"pizza_size\": str, // The size of the pizza to order\n",
    "    \"pizza_toppings\": List[str], // A list of toppings to add to the pizza\n",
    "    \"side_items\": List[str] // A list of side items to include with the order\n",
    "    \"response\": str //A response to the user based on the last update, It may be clarifying question about the user's request, a confirmation message or a probing question about the orde. Be concise and to the point\n",
    "    \"confirmed:bool // A boolean value indicating whether all information is available and confirmed from the user. One you set this to true, the order will be placed and cannot be updated further\n",
    "\n",
    "}}\"\"\" +\\\n",
    "\"Remember to *always* respond to the user query in the form of a json object with the above schema only. \"\n",
    "\n"
   ]
  },
  {
   "cell_type": "code",
   "execution_count": 175,
   "id": "97c52f04",
   "metadata": {},
   "outputs": [],
   "source": [
    "order_prompt = ChatPromptTemplate.from_messages(\n",
    "    [\n",
    "        (\"system\", order_taker_prompt),\n",
    "        MessagesPlaceholder(variable_name=\"messages\"),\n",
    "    ]\n",
    ")\n",
    "def order_taker_agent(state):\n",
    "    order_take_chain = (\n",
    "        order_prompt\n",
    "        | llm.bind_tools([pizza_order]).with_structured_output(orderTakeResponse) #add tool call here\n",
    "    )\n",
    "    return order_take_chain.invoke(state)"
   ]
  },
  {
   "cell_type": "code",
   "execution_count": 176,
   "id": "d748acbb",
   "metadata": {},
   "outputs": [],
   "source": [
    "def unimplemented_agent_node(state,name):\n",
    "    return {\"messages\": [HumanMessage(content=\"This will be replaced by real message\",name=name)]}"
   ]
  },
  {
   "cell_type": "code",
   "execution_count": 177,
   "id": "96314296",
   "metadata": {},
   "outputs": [],
   "source": [
    "def place_order_node_factory(state,name):\n",
    "    response=pizza_order(state[\"size\"],state[\"toppings\"],state[\"sides\"])\n",
    "    return {\"messages\": [AIMessage(content=response,name=name)]}"
   ]
  },
  {
   "cell_type": "code",
   "execution_count": 178,
   "id": "8998dc03",
   "metadata": {},
   "outputs": [],
   "source": [
    "#create the graph\n",
    "from langgraph.graph import END, StateGraph, START\n",
    "import functools\n",
    "from langgraph.prebuilt import ToolNode,tools_condition\n",
    "\n",
    "\n",
    "workflow = StateGraph(State)\n",
    "workflow.add_node(\"supervisor\", supervisor_agent)\n",
    "helper_node=functools.partial(agent_node, agent=helper_agent, name=\"helper\")\n",
    "workflow.add_node(\"helper\", helper_node)\n",
    "order_taker_node=functools.partial(order_taker_node_factory,agent=order_taker_agent, name=\"order_taker\")\n",
    "workflow.add_node(\"order_taker\", order_taker_node)\n",
    "\n",
    "place_order_node=functools.partial(place_order_node_factory, name=\"order_place\")\n",
    "workflow.add_node(\"order_place\", place_order_node)"
   ]
  },
  {
   "cell_type": "code",
   "execution_count": null,
   "id": "582ae58a",
   "metadata": {},
   "outputs": [],
   "source": []
  },
  {
   "cell_type": "code",
   "execution_count": 179,
   "id": "ddc5963e",
   "metadata": {},
   "outputs": [],
   "source": [
    "from langgraph.prebuilt import create_react_agent\n",
    "tools=[order_status]\n",
    "model=llm.bind_tools(tools)\n",
    "order_status_agent = create_react_agent(model, tools)\n",
    "order_status_node=functools.partial(invoke_agent_node, agent=order_status_agent, name=\"order_status\")\n",
    "workflow.add_node(\"order_status\", order_status_node)\n",
    "tool_node = ToolNode(tools=tools)\n",
    "workflow.add_node(\"tools\", tool_node)\n"
   ]
  },
  {
   "cell_type": "code",
   "execution_count": 180,
   "id": "e11d4150",
   "metadata": {},
   "outputs": [],
   "source": [
    "def order_place_condition(state):\n",
    "    if state[\"confirmed\"]:\n",
    "        return \"order_place\"\n",
    "    else:\n",
    "        return END"
   ]
  },
  {
   "cell_type": "code",
   "execution_count": 181,
   "id": "3449c30f",
   "metadata": {},
   "outputs": [],
   "source": [
    "# from superviser to routed nodes    \n",
    "workflow.add_conditional_edges(\"supervisor\", lambda x: x[\"next\"],{\"order_taker\":\"order_taker\",\"helper\":\"helper\",\"order_status\":\"order_status\"})\n",
    "workflow.add_conditional_edges(\"order_taker\",order_place_condition,{\"order_place\":\"order_place\",END:END})\n",
    "workflow.add_conditional_edges(\"order_status\",tools_condition,{\"tools\":\"tools\",END:END})\n",
    "workflow.add_edge(\"order_place\", END)\n",
    "workflow.add_edge(\"helper\", END)\n",
    "workflow.add_edge(START, \"supervisor\")\n",
    "\n"
   ]
  },
  {
   "cell_type": "code",
   "execution_count": 182,
   "id": "18787aa1",
   "metadata": {},
   "outputs": [],
   "source": [
    "graph = workflow.compile()"
   ]
  },
  {
   "cell_type": "code",
   "execution_count": 183,
   "id": "fc97ddf3-e911-4dc3-8449-8eb602c3d8e8",
   "metadata": {},
   "outputs": [
    {
     "data": {
      "image/jpeg": "[encoded data removed]",
      "text/plain": [
       "<IPython.core.display.Image object>"
      ]
     },
     "metadata": {},
     "output_type": "display_data"
    }
   ],
   "source": [
    "from IPython.display import Image, display\n",
    "\n",
    "try:\n",
    "    display(Image(graph.get_graph().draw_mermaid_png()))\n",
    "except Exception:\n",
    "    # This requires some extra dependencies and is optional\n",
    "    pass"
   ]
  },
  {
   "cell_type": "code",
   "execution_count": 184,
   "id": "1e7d0635",
   "metadata": {},
   "outputs": [
    {
     "data": {
      "text/plain": [
       "{1: 'pending', 2: 'pending', 3: 'pending', 4: 'pending'}"
      ]
     },
     "execution_count": 184,
     "metadata": {},
     "output_type": "execute_result"
    }
   ],
   "source": [
    "order_status_db"
   ]
  },
  {
   "cell_type": "code",
   "execution_count": 185,
   "id": "3ba17a65",
   "metadata": {},
   "outputs": [
    {
     "name": "stdout",
     "output_type": "stream",
     "text": [
      "{'supervisor': {'next': 'order_taker'}}\n",
      "----\n",
      "{'order_taker': {'messages': [HumanMessage(content='Great choice! What toppings would you like on your large pizza? You can choose from capsicum, tomatoes, olives, mushrooms, onions, jalapenos, pineapple, and pepperoni.', name='order_taker', id='dd4447a8-1bc2-44ac-bb1d-712fbb7cc7e3')], 'size': 'large', 'toppings': [], 'sides': [], 'confirmed': False}}\n",
      "----\n"
     ]
    }
   ],
   "source": [
    "events = graph.stream({\n",
    "        \"messages\": [            \n",
    "            HumanMessage(content=\"I want to order a large pizza\"),\n",
    "        ],\n",
    "    },\n",
    "    # Maximum number of steps to take in the graph\n",
    "    {\"recursion_limit\": 3},\n",
    ")\n",
    "for s in events:\n",
    "    print(s)\n",
    "    print(\"----\")\n"
   ]
  },
  {
   "cell_type": "code",
   "execution_count": 186,
   "id": "6864788e",
   "metadata": {},
   "outputs": [
    {
     "data": {
      "text/plain": [
       "{1: 'pending', 2: 'pending', 3: 'pending', 4: 'pending'}"
      ]
     },
     "execution_count": 186,
     "metadata": {},
     "output_type": "execute_result"
    }
   ],
   "source": [
    "order_status_db"
   ]
  },
  {
   "cell_type": "code",
   "execution_count": 187,
   "id": "1a6c9ac1",
   "metadata": {},
   "outputs": [
    {
     "name": "stdout",
     "output_type": "stream",
     "text": [
      "{'supervisor': {'next': 'order_taker'}}\n",
      "----\n",
      "{'order_taker': {'messages': [HumanMessage(content='Thank you for your order! Your large pizza with onion, capsicum, and tomato toppings, along with a garlic bread, will be served within 10 minutes.', name='order_taker', id='720662be-7925-4471-9583-82ed031cfde4')], 'size': 'large', 'toppings': ['onions', 'capsicum', 'tomatoes'], 'sides': ['garlic bread'], 'confirmed': True}}\n",
      "----\n",
      "{'order_place': {'messages': [AIMessage(content='Your order has been placed successfully! Your order id is: 5', name='order_place')]}}\n",
      "----\n"
     ]
    }
   ],
   "source": [
    "messages = [\n",
    "        HumanMessage(content=\"I want to order a medium pizza with onion, capsicum and tomato toppings\"),\n",
    "        AIMessage(content=\"Great choice! Would you like to add any side items, such as garlic bread, choco lava cake, or chicken taco?\"),\n",
    "        HumanMessage(content=\"Yes, add a garlic bread. Also, is a medium pizza enough for 3 people?\"),\n",
    "        AIMessage(content=\"A medium pizza is generally enough for about 2 people. Would you like to consider ordering a large pizza instead?\"),\n",
    "        HumanMessage(content=\"Yes\"),\n",
    "        AIMessage(content=\"I've updated your order to a large pizza with onion, capsicum, and tomato toppings, along with a garlic bread. Would you like to add any additional toppings or side items?\"),\n",
    "        HumanMessage(content=\"No. That's all.\"),\n",
    "        AIMessage(content=\"Thank you for your order! Just to confirm, you've ordered a large pizza with onion, capsicum, and tomato toppings, along with a garlic bread. Is this correct? If so, I'll place your order.\"),\n",
    "        HumanMessage(content=\"Yes, that's correct.\")\n",
    "\n",
    "]\n",
    "events = graph.stream({\n",
    "        \"messages\": messages,\n",
    "    },\n",
    "    # Maximum number of steps to take in the graph\n",
    "    {\"recursion_limit\": 5},\n",
    ")\n",
    "for s in events:\n",
    "    print(s)\n",
    "    print(\"----\")"
   ]
  },
  {
   "cell_type": "code",
   "execution_count": 47,
   "id": "edeec6ef",
   "metadata": {},
   "outputs": [
    {
     "data": {
      "text/plain": [
       "{1: 'pending'}"
      ]
     },
     "execution_count": 47,
     "metadata": {},
     "output_type": "execute_result"
    }
   ],
   "source": [
    "order_status_db"
   ]
  },
  {
   "cell_type": "code",
   "execution_count": 48,
   "id": "ea16dd54",
   "metadata": {},
   "outputs": [
    {
     "name": "stdout",
     "output_type": "stream",
     "text": [
      "{'supervisor': {'next': 'order_taker'}}\n",
      "----\n",
      "{'order_taker': {'messages': [HumanMessage(content=\"Certainly! I've confirmed your order for a medium pizza with onion, capsicum, and tomato toppings, and no sides. Your order has been placed successfully. Is there anything else you'd like to know about your order?\", name='order_taker', id='3041942a-504c-4b0d-b24d-0432f9c2f9c1')], 'size': 'medium', 'toppings': ['onions', 'capsicum', 'tomatoes'], 'sides': [], 'confirmed': True}}\n",
      "----\n",
      "{'order_place': {'messages': [AIMessage(content='Your order has been placed successfully! Your order id is:\\n2', name='order_place')]}}\n",
      "----\n"
     ]
    }
   ],
   "source": [
    "messages = [\n",
    "        HumanMessage(content=\"I want to order a medium pizza with onion, capsicum and tomato toppings and no sides. Please consider the order confirmed\"),        \n",
    "\n",
    "]\n",
    "events = graph.stream({\n",
    "        \"messages\": messages,\n",
    "    },\n",
    "    # Maximum number of steps to take in the graph\n",
    "    {\"recursion_limit\": 5},\n",
    ")\n",
    "for s in events:\n",
    "    print(s)\n",
    "    print(\"----\")"
   ]
  },
  {
   "cell_type": "code",
   "execution_count": 49,
   "id": "58fa7b1b",
   "metadata": {},
   "outputs": [
    {
     "data": {
      "text/plain": [
       "{1: 'pending', 2: 'pending'}"
      ]
     },
     "execution_count": 49,
     "metadata": {},
     "output_type": "execute_result"
    }
   ],
   "source": [
    "order_status_db"
   ]
  },
  {
   "cell_type": "code",
   "execution_count": 50,
   "id": "3f0c9dca",
   "metadata": {},
   "outputs": [
    {
     "name": "stdout",
     "output_type": "stream",
     "text": [
      "{'supervisor': {'next': 'order_status'}}\n",
      "----\n",
      "{'order_status': {'messages': [HumanMessage(content=\"Certainly! I'd be happy to help you check the status of your order. However, to retrieve the status, I'll need the order ID. The order ID is typically a number assigned to your order when you placed it.\\n\\nCould you please provide me with your order ID? Once I have that information, I can use our system to check the status for you.\", name='order_status', id='c74d1622-eff7-49c7-b0af-914642b38215')]}}\n",
      "----\n"
     ]
    }
   ],
   "source": [
    "messages = [\n",
    "        HumanMessage(content=\"I want to know the status of my order\"),\n",
    "]\n",
    "events = graph.stream({\n",
    "        \"messages\": messages,\n",
    "    },\n",
    "    # Maximum number of steps to take in the graph\n",
    "    {\"recursion_limit\": 5},\n",
    ")\n",
    "for s in events:\n",
    "    print(s)\n",
    "    print(\"----\")\n"
   ]
  },
  {
   "cell_type": "code",
   "execution_count": 51,
   "id": "58663834",
   "metadata": {},
   "outputs": [
    {
     "data": {
      "text/plain": [
       "{1: 'pending', 2: 'pending'}"
      ]
     },
     "execution_count": 51,
     "metadata": {},
     "output_type": "execute_result"
    }
   ],
   "source": [
    "order_status_db"
   ]
  },
  {
   "cell_type": "code",
   "execution_count": 52,
   "id": "35b8e93c",
   "metadata": {},
   "outputs": [
    {
     "name": "stdout",
     "output_type": "stream",
     "text": [
      "{'supervisor': {'next': 'order_status'}}\n",
      "----\n",
      "{'order_status': {'messages': [HumanMessage(content=\"Based on the information I've received, I can inform you that Order 1 is currently pending. This means that your order has been received and is being processed, but it hasn't been completed or shipped yet.\\n\\nIs there anything else you'd like to know about your order or any other assistance I can provide?\", name='order_status', id='2eaa4741-7b00-4589-a92b-478391f45cc2')]}}\n",
      "----\n"
     ]
    }
   ],
   "source": [
    "messages = [\n",
    "        HumanMessage(content=\"I want to know the status of my order\"),\n",
    "        AIMessage(content=\"Certainly! I'd be happy to help you check the status of your order. However, to retrieve the status, I'll need the order ID. The order ID is typically a number assigned to your order when you placed it.\\n\\nCould you please provide me with your order ID? Once I have that information, I can use our system to check the status for you.\"),\n",
    "        HumanMessage(content=\"My order id is 1\")\n",
    "]\n",
    "events = graph.stream({\n",
    "        \"messages\": messages,\n",
    "    },\n",
    "    # Maximum number of steps to take in the graph\n",
    "    {\"recursion_limit\": 5},\n",
    ")\n",
    "for s in events:\n",
    "    print(s)\n",
    "    print(\"----\")\n"
   ]
  },
  {
   "cell_type": "code",
   "execution_count": 53,
   "id": "64527417",
   "metadata": {},
   "outputs": [],
   "source": [
    "order_status_db[1]=\"Dispatched\""
   ]
  },
  {
   "cell_type": "code",
   "execution_count": 54,
   "id": "7b4522a0",
   "metadata": {},
   "outputs": [
    {
     "name": "stdout",
     "output_type": "stream",
     "text": [
      "{'supervisor': {'next': 'order_status'}}\n",
      "----\n",
      "{'order_status': {'messages': [HumanMessage(content=\"Great news! I've retrieved the status of your order. The system shows that Order 1 is Dispatched. \\n\\nThis means that your order has been prepared and is now on its way to you. It has left our facility and is in the delivery process. You should receive it soon, depending on your location and the delivery method chosen.\\n\\nIs there anything else you'd like to know about your order or any other assistance I can provide?\", name='order_status', id='45ec9c64-e3f4-4f41-a066-733280d80f67')]}}\n",
      "----\n"
     ]
    }
   ],
   "source": [
    "messages = [\n",
    "        HumanMessage(content=\"I want to know the status of my order\"),\n",
    "        AIMessage(content=\"Certainly! I'd be happy to help you check the status of your order. However, to retrieve the status, I'll need the order ID. The order ID is typically a number assigned to your order when you placed it.\\n\\nCould you please provide me with your order ID? Once I have that information, I can use our system to check the status for you.\"),\n",
    "        HumanMessage(content=\"My order id is 1\")\n",
    "]\n",
    "events = graph.stream({\n",
    "        \"messages\": messages,\n",
    "    },\n",
    "    # Maximum number of steps to take in the graph\n",
    "    {\"recursion_limit\": 5},\n",
    ")\n",
    "for s in events:\n",
    "    print(s)\n",
    "    print(\"----\")\n"
   ]
  },
  {
   "cell_type": "code",
   "execution_count": 55,
   "id": "e9d61000",
   "metadata": {},
   "outputs": [
    {
     "name": "stdout",
     "output_type": "stream",
     "text": [
      "{'supervisor': {'next': 'order_taker'}}\n",
      "----\n",
      "{'order_taker': {'messages': [HumanMessage(content=\"Certainly! I'd be happy to help you order a pizza with onion, capsicum, and tomato toppings. That sounds delicious! I've noted down your toppings. Could you please tell me what size pizza you'd like? We have small, medium, and large options available.\", name='order_taker', id='ce13076f-7ff5-4e7d-8474-512e4e4fe6a8')], 'size': 'medium', 'toppings': ['onions', 'capsicum', 'tomatoes'], 'sides': [], 'confirmed': False}}\n",
      "----\n"
     ]
    }
   ],
   "source": [
    "messages = [\n",
    "        HumanMessage(content=\"I want to order a pizza with onion, capsicum and tomato toppings.\"),        \n",
    "\n",
    "]\n",
    "events = graph.stream({\n",
    "        \"messages\": messages,\n",
    "    },\n",
    "    # Maximum number of steps to take in the graph\n",
    "    {\"recursion_limit\": 5},\n",
    ")\n",
    "for s in events:\n",
    "    print(s)\n",
    "    print(\"----\")"
   ]
  },
  {
   "cell_type": "code",
   "execution_count": 210,
   "id": "b9b37649",
   "metadata": {},
   "outputs": [],
   "source": [
    "import logging\n",
    "logging.basicConfig(level=logging.WARN)\n",
    "class CustomFormatter(logging.Formatter):\n",
    "\n",
    "    grey = \"\\x1b[38;20m\"\n",
    "    yellow = \"\\x1b[33;20m\"\n",
    "    red = \"\\x1b[31;20m\"\n",
    "    bold_red = \"\\x1b[31;1m\"\n",
    "    reset = \"\\x1b[0m\"\n",
    "    format = \"%(message)s\"\n",
    "\n",
    "    FORMATS = {\n",
    "        logging.DEBUG: grey + format + reset,\n",
    "        logging.INFO: red + format + reset,\n",
    "        logging.WARNING: yellow + format + reset,\n",
    "        logging.ERROR: red + format + reset,\n",
    "        logging.CRITICAL: bold_red + format + reset\n",
    "    }\n",
    "\n",
    "    def format(self, record):\n",
    "        log_fmt = self.FORMATS.get(record.levelno)\n",
    "        formatter = logging.Formatter(log_fmt)\n",
    "        return formatter.format(record)\n",
    "logger = logging.getLogger(\"PizzaOrderBot\")\n",
    "logger.setLevel(logging.WARN)\n",
    "\n",
    "# create console handler with a higher log level\n",
    "ch = logging.StreamHandler()\n",
    "ch.setLevel(logging.INFO)\n",
    "\n",
    "ch.setFormatter(CustomFormatter())\n",
    "\n",
    "logger.addHandler(ch)"
   ]
  },
  {
   "cell_type": "code",
   "execution_count": 211,
   "id": "1d222af3",
   "metadata": {},
   "outputs": [],
   "source": [
    "def interactive():\n",
    "    message=input(\"Welcome to the Robo Pizza Hut. How can I help you today?\")\n",
    "    print(\"Welcome to the Robo Pizza Hut. How can I help you today?\")\n",
    "    messages = [\n",
    "            HumanMessage(content=message),        \n",
    "        ]\n",
    "    while(True):        \n",
    "        if message in [\"exit\",\"q\",\"quit\"]:\n",
    "            break\n",
    "        messages.append(HumanMessage(content=message))\n",
    "        print(message)\n",
    "        events = graph.stream({\n",
    "                \"messages\": messages,\n",
    "            },\n",
    "            # Maximum number of steps to take in the graph\n",
    "            {\"recursion_limit\": 5},\n",
    "        )\n",
    "        events=list(events)\n",
    "        for s in events:\n",
    "            \n",
    "            logger.info(s)\n",
    "            # print(\"----\")\n",
    "        if len(events)>0:            \n",
    "            last_event=events[-1]\n",
    "            v=list(last_event.values())[-1]\n",
    "            if \"messages\" in v:\n",
    "                m=v[\"messages\"][-1]\n",
    "                messages.append(AIMessage(m.content)) \n",
    "                print(m.content)            \n",
    "            message=input()\n",
    "        else:\n",
    "            print(\"No event recieved\")\n",
    "            print(events)\n",
    "            break\n",
    "        "
   ]
  },
  {
   "cell_type": "code",
   "execution_count": 212,
   "id": "ac53b291",
   "metadata": {},
   "outputs": [
    {
     "name": "stdout",
     "output_type": "stream",
     "text": [
      "Welcome to the Robo Pizza Hut. How can I help you today?\n",
      "Hello\n"
     ]
    },
    {
     "name": "stderr",
     "output_type": "stream",
     "text": [
      "\u001b[38;20m{'supervisor': {'next': 'helper'}}\u001b[0m\n",
      "INFO:PizzaOrderBot:{'supervisor': {'next': 'helper'}}\n",
      "\u001b[38;20m{'helper': {'messages': [AIMessage(content='Hi there! How can I assist you with your pizza order today?', name='helper', id='ec243f08-081f-4c3f-b0ac-86017709d710')]}}\u001b[0m\n",
      "INFO:PizzaOrderBot:{'helper': {'messages': [AIMessage(content='Hi there! How can I assist you with your pizza order today?', name='helper', id='ec243f08-081f-4c3f-b0ac-86017709d710')]}}\n"
     ]
    },
    {
     "name": "stdout",
     "output_type": "stream",
     "text": [
      "Hi there! How can I assist you with your pizza order today?\n"
     ]
    }
   ],
   "source": [
    "interactive()"
   ]
  },
  {
   "cell_type": "code",
   "execution_count": null,
   "id": "42f9e084",
   "metadata": {},
   "outputs": [],
   "source": []
  }
 ],
 "metadata": {
  "kernelspec": {
   "display_name": ".env",
   "language": "python",
   "name": "python3"
  },
  "language_info": {
   "codemirror_mode": {
    "name": "ipython",
    "version": 3
   },
   "file_extension": ".py",
   "mimetype": "text/x-python",
   "name": "python",
   "nbconvert_exporter": "python",
   "pygments_lexer": "ipython3",
   "version": "3.12.5"
  }
 },
 "nbformat": 4,
 "nbformat_minor": 5
}
